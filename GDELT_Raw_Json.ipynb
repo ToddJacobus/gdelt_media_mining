{
 "cells": [
  {
   "cell_type": "code",
   "execution_count": 8,
   "metadata": {
    "collapsed": true
   },
   "outputs": [],
   "source": [
    "import pandas\n",
    "# import urllib.request\n",
    "# requests works better...I'm not sure why\n",
    "#but my encoding problem is gone.\n",
    "#See: https://stackoverflow.com/questions/47419104/unicodedecodeerror-utf-8-codec-cant-decode-python3\n",
    "import requests\n",
    "import json\n",
    "import geojson\n",
    "import folium"
   ]
  },
  {
   "cell_type": "code",
   "execution_count": 46,
   "metadata": {},
   "outputs": [
    {
     "name": "stdout",
     "output_type": "stream",
     "text": [
      "200\n",
      "<class 'dict'>\n"
     ]
    }
   ],
   "source": [
    "#GDELT GeoJson Endpoint\n",
    "url = \"https://api.gdeltproject.org/api/v1/gkg_geojson?MAXROWS=3\"\n",
    "\n",
    "#Issue request to URL\n",
    "request = requests.get(url)\n",
    "print(request.status_code)\n",
    "if request.status_code == 200: data = request.json()\n",
    "print(type(data))"
   ]
  },
  {
   "cell_type": "code",
   "execution_count": null,
   "metadata": {
    "collapsed": true
   },
   "outputs": [],
   "source": [
    "#another thing to try\n",
    "#via https://www.haykranen.nl/2016/02/13/handling-complex-nested-dicts-in-python/\n",
    "\n",
    "class DictQuery(dict):\n",
    "    def get(self, path, default = None):\n",
    "        keys = path.split(\"/\")\n",
    "        val = None\n",
    "\n",
    "        for key in keys:\n",
    "            if val:\n",
    "                if isinstance(val, list):\n",
    "                    val = [ v.get(key, default) if v else None for v in val]\n",
    "                else:\n",
    "                    val = val.get(key, default)\n",
    "            else:\n",
    "                val = dict.get(self, key, default)\n",
    "\n",
    "            if not val:\n",
    "                break;\n",
    "\n",
    "        return val"
   ]
  },
  {
   "cell_type": "code",
   "execution_count": 7,
   "metadata": {},
   "outputs": [
    {
     "name": "stdout",
     "output_type": "stream",
     "text": [
      "['type', 'FeatureCollection']\n",
      "['features', 'type', 'Feature']\n",
      "['geometry', 'features', 'type', 'Point']\n",
      "55.28\n",
      "25.2522\n",
      "['properties', 'features', 'urlpubtimedate', '2018-02-01T13:45:00Z']\n",
      "['properties', 'features', 'name', 'Dubai, Dubayy, United Arab Emirates']\n",
      "['properties', 'features', 'urltone', 3.03]\n",
      "['properties', 'features', 'url', 'https://www.arabfinance.com/ar/news/details/world-companies/421816']\n",
      "['properties', 'features', 'mentionedthemes', ';TAX_WORLDLANGUAGES_ISLAMI;TAX_ETHNICITY_ARAB;TAX_ETHNICITY_ARAB;TAX_ETHNICITY_ARAB;']\n",
      "['features', 'type', 'Feature']\n",
      "['geometry', 'features', 'type', 'Point']\n",
      "55.28\n",
      "25.2522\n",
      "['properties', 'features', 'urlpubtimedate', '2018-02-01T13:45:00Z']\n",
      "['properties', 'features', 'name', 'Dubai, Dubayy, United Arab Emirates']\n",
      "['properties', 'features', 'urltone', 3.03]\n",
      "['properties', 'features', 'url', 'https://www.arabfinance.com/ar/news/details/world-companies/421816']\n",
      "['properties', 'features', 'mentionedthemes', ';EPU_CATS_REGULATION;EPU_CATS_FINANCIAL_REGULATION;TAX_WORLDLANGUAGES_ISLAMI;TAX_WORLDLANGUAGES_ISLAMI;TAX_ETHNICITY_ARAB;TAX_ETHNICITY_ARAB;TAX_ETHNICITY_ARAB;ECON_STOCKMARKET;TAX_ETHNICITY_IRISH;TAX_WORLDLANGUAGES_IRISH;']\n"
     ]
    }
   ],
   "source": [
    "# def flatten(indict, pre=None):\n",
    "#     pre = pre[:] if pre else []\n",
    "#     if isinstance(indict, dict):\n",
    "#         for key, value in indict.items():\n",
    "#             if isinstance(value, dict):\n",
    "#                 for d in flatten(value, [key] + pre):\n",
    "#                     yield d\n",
    "#                 elif isinstance(value, list) or isinstance(value, tuple):\n",
    "#                     for v in value:\n",
    "#                         for d in flatten(v, [key] + pre):\n",
    "#                             yield d\n",
    "#                 else:\n",
    "#                     yield pre + [key, value]\n",
    "#             else:\n",
    "#                 yield indict\n",
    "\n",
    "    \n",
    "#from: https://stackoverflow.com/questions/12507206/python-recommended-way-to-walk-complex-dictionary-structures-imported-from-json    \n",
    "def dict_generator(indict, pre=None):\n",
    "    pre = pre[:] if pre else []\n",
    "    if isinstance(indict, dict):\n",
    "        for key, value in indict.items():\n",
    "            if isinstance(value, dict):\n",
    "                for d in dict_generator(value, [key] + pre):\n",
    "                    yield d\n",
    "            elif isinstance(value, list) or isinstance(value, tuple):\n",
    "                for v in value:\n",
    "                    for d in dict_generator(v, [key] + pre):\n",
    "                        yield d\n",
    "            else:\n",
    "                yield pre + [key, value]\n",
    "    else:\n",
    "        yield indict\n",
    "        \n",
    "for i in dict_generator(data):\n",
    "    print(i)"
   ]
  },
  {
   "cell_type": "code",
   "execution_count": 54,
   "metadata": {},
   "outputs": [
    {
     "name": "stdout",
     "output_type": "stream",
     "text": [
      "{'type': ['Point', 'Point', 'Point'], 'coordinates': [[66.0, 33.0], [15.0, 49.75], [15.0, 49.75]], 'urlpubtimedate': ['2018-02-01T17:45:00Z', '2018-02-01T17:45:00Z', '2018-02-01T17:45:00Z'], 'name': ['Afghanistan', 'Czech Republic', 'Czech Republic'], 'urltone': [0.8, 0.8, 0.8], 'url': ['https://www.parlamentnilisty.cz/profily/Ing-Karla-Slechtova-50638/clanek/Ucast-na-misi-v-Afghanistanu-je-skutecne-dulezita-83894', 'https://www.parlamentnilisty.cz/profily/Ing-Karla-Slechtova-50638/clanek/Ucast-na-misi-v-Afghanistanu-je-skutecne-dulezita-83894', 'https://www.parlamentnilisty.cz/profily/Ing-Karla-Slechtova-50638/clanek/Ucast-na-misi-v-Afghanistanu-je-skutecne-dulezita-83894'], 'mentionedthemes': [';TAX_FNCACT_DEPUTY;MILITARY;TAX_MILITARY_TITLE_SOLDIERS;TAX_FNCACT_SOLDIERS;TAX_FNCACT_TROOPS;TAX_ETHNICITY_CZECHS;TAX_WORLDLANGUAGES_CZECHS;TAX_FNCACT_DIRECTOR;TAX_FNCACT_MINISTER;TAX_FNCACT_MINISTER;TAX_ETHNICITY_CZECH;TAX_WORLDLANGUAGES_CZECH;UNGP_FORESTS_RIVERS_OCEANS;', ';TAX_FNCACT_DEPUTY;MILITARY;TAX_MILITARY_TITLE_SOLDIERS;TAX_FNCACT_SOLDIERS;TAX_FNCACT_TROOPS;LEADER;TAX_FNCACT_PRESIDENT;USPEC_POLITICS_GENERAL1;TAX_ETHNICITY_CZECHS;TAX_WORLDLANGUAGES_CZECHS;TAX_FNCACT_DIRECTOR;TAX_FNCACT_MINISTER;TAX_FNCACT_MINISTER;TAX_FNCACT_MINISTER;TAX_ETHNICITY_CZECH;TAX_WORLDLANGUAGES_CZECH;', ';TAX_FNCACT_DEPUTY;MILITARY;TAX_MILITARY_TITLE_SOLDIERS;TAX_FNCACT_SOLDIERS;TAX_FNCACT_TROOPS;TAX_ETHNICITY_CZECHS;TAX_WORLDLANGUAGES_CZECHS;TAX_FNCACT_DIRECTOR;TAX_FNCACT_MINISTER;TAX_FNCACT_MINISTER;TAX_ETHNICITY_CZECH;TAX_WORLDLANGUAGES_CZECH;UNGP_FORESTS_RIVERS_OCEANS;']}\n",
      "---------\n",
      "type ['Point', 'Point', 'Point']\n",
      "coordinates [[66.0, 33.0], [15.0, 49.75], [15.0, 49.75]]\n",
      "urlpubtimedate ['2018-02-01T17:45:00Z', '2018-02-01T17:45:00Z', '2018-02-01T17:45:00Z']\n",
      "name ['Afghanistan', 'Czech Republic', 'Czech Republic']\n",
      "urltone [0.8, 0.8, 0.8]\n",
      "url ['https://www.parlamentnilisty.cz/profily/Ing-Karla-Slechtova-50638/clanek/Ucast-na-misi-v-Afghanistanu-je-skutecne-dulezita-83894', 'https://www.parlamentnilisty.cz/profily/Ing-Karla-Slechtova-50638/clanek/Ucast-na-misi-v-Afghanistanu-je-skutecne-dulezita-83894', 'https://www.parlamentnilisty.cz/profily/Ing-Karla-Slechtova-50638/clanek/Ucast-na-misi-v-Afghanistanu-je-skutecne-dulezita-83894']\n",
      "mentionedthemes [';TAX_FNCACT_DEPUTY;MILITARY;TAX_MILITARY_TITLE_SOLDIERS;TAX_FNCACT_SOLDIERS;TAX_FNCACT_TROOPS;TAX_ETHNICITY_CZECHS;TAX_WORLDLANGUAGES_CZECHS;TAX_FNCACT_DIRECTOR;TAX_FNCACT_MINISTER;TAX_FNCACT_MINISTER;TAX_ETHNICITY_CZECH;TAX_WORLDLANGUAGES_CZECH;UNGP_FORESTS_RIVERS_OCEANS;', ';TAX_FNCACT_DEPUTY;MILITARY;TAX_MILITARY_TITLE_SOLDIERS;TAX_FNCACT_SOLDIERS;TAX_FNCACT_TROOPS;LEADER;TAX_FNCACT_PRESIDENT;USPEC_POLITICS_GENERAL1;TAX_ETHNICITY_CZECHS;TAX_WORLDLANGUAGES_CZECHS;TAX_FNCACT_DIRECTOR;TAX_FNCACT_MINISTER;TAX_FNCACT_MINISTER;TAX_FNCACT_MINISTER;TAX_ETHNICITY_CZECH;TAX_WORLDLANGUAGES_CZECH;', ';TAX_FNCACT_DEPUTY;MILITARY;TAX_MILITARY_TITLE_SOLDIERS;TAX_FNCACT_SOLDIERS;TAX_FNCACT_TROOPS;TAX_ETHNICITY_CZECHS;TAX_WORLDLANGUAGES_CZECHS;TAX_FNCACT_DIRECTOR;TAX_FNCACT_MINISTER;TAX_FNCACT_MINISTER;TAX_ETHNICITY_CZECH;TAX_WORLDLANGUAGES_CZECH;UNGP_FORESTS_RIVERS_OCEANS;']\n"
     ]
    },
    {
     "data": {
      "text/html": [
       "<div>\n",
       "<style>\n",
       "    .dataframe thead tr:only-child th {\n",
       "        text-align: right;\n",
       "    }\n",
       "\n",
       "    .dataframe thead th {\n",
       "        text-align: left;\n",
       "    }\n",
       "\n",
       "    .dataframe tbody tr th {\n",
       "        vertical-align: top;\n",
       "    }\n",
       "</style>\n",
       "<table border=\"1\" class=\"dataframe\">\n",
       "  <thead>\n",
       "    <tr style=\"text-align: right;\">\n",
       "      <th></th>\n",
       "      <th>coordinates</th>\n",
       "      <th>mentionedthemes</th>\n",
       "      <th>name</th>\n",
       "      <th>type</th>\n",
       "      <th>url</th>\n",
       "      <th>urlpubtimedate</th>\n",
       "      <th>urltone</th>\n",
       "    </tr>\n",
       "  </thead>\n",
       "  <tbody>\n",
       "    <tr>\n",
       "      <th>0</th>\n",
       "      <td>[66.0, 33.0]</td>\n",
       "      <td>;TAX_FNCACT_DEPUTY;MILITARY;TAX_MILITARY_TITLE...</td>\n",
       "      <td>Afghanistan</td>\n",
       "      <td>Point</td>\n",
       "      <td>https://www.parlamentnilisty.cz/profily/Ing-Ka...</td>\n",
       "      <td>2018-02-01T17:45:00Z</td>\n",
       "      <td>0.8</td>\n",
       "    </tr>\n",
       "    <tr>\n",
       "      <th>1</th>\n",
       "      <td>[15.0, 49.75]</td>\n",
       "      <td>;TAX_FNCACT_DEPUTY;MILITARY;TAX_MILITARY_TITLE...</td>\n",
       "      <td>Czech Republic</td>\n",
       "      <td>Point</td>\n",
       "      <td>https://www.parlamentnilisty.cz/profily/Ing-Ka...</td>\n",
       "      <td>2018-02-01T17:45:00Z</td>\n",
       "      <td>0.8</td>\n",
       "    </tr>\n",
       "    <tr>\n",
       "      <th>2</th>\n",
       "      <td>[15.0, 49.75]</td>\n",
       "      <td>;TAX_FNCACT_DEPUTY;MILITARY;TAX_MILITARY_TITLE...</td>\n",
       "      <td>Czech Republic</td>\n",
       "      <td>Point</td>\n",
       "      <td>https://www.parlamentnilisty.cz/profily/Ing-Ka...</td>\n",
       "      <td>2018-02-01T17:45:00Z</td>\n",
       "      <td>0.8</td>\n",
       "    </tr>\n",
       "  </tbody>\n",
       "</table>\n",
       "</div>"
      ],
      "text/plain": [
       "     coordinates                                    mentionedthemes  \\\n",
       "0   [66.0, 33.0]  ;TAX_FNCACT_DEPUTY;MILITARY;TAX_MILITARY_TITLE...   \n",
       "1  [15.0, 49.75]  ;TAX_FNCACT_DEPUTY;MILITARY;TAX_MILITARY_TITLE...   \n",
       "2  [15.0, 49.75]  ;TAX_FNCACT_DEPUTY;MILITARY;TAX_MILITARY_TITLE...   \n",
       "\n",
       "             name   type                                                url  \\\n",
       "0     Afghanistan  Point  https://www.parlamentnilisty.cz/profily/Ing-Ka...   \n",
       "1  Czech Republic  Point  https://www.parlamentnilisty.cz/profily/Ing-Ka...   \n",
       "2  Czech Republic  Point  https://www.parlamentnilisty.cz/profily/Ing-Ka...   \n",
       "\n",
       "         urlpubtimedate  urltone  \n",
       "0  2018-02-01T17:45:00Z      0.8  \n",
       "1  2018-02-01T17:45:00Z      0.8  \n",
       "2  2018-02-01T17:45:00Z      0.8  "
      ]
     },
     "execution_count": 54,
     "metadata": {},
     "output_type": "execute_result"
    }
   ],
   "source": [
    "# print(data['features'])\n",
    "\n",
    "flat_dictionary = {}\n",
    "for feature in data['features']:\n",
    "    for key, value in feature.items():\n",
    "      if type(feature[key]) == dict:\n",
    "        for k, v in feature[key].items():\n",
    "            if k in flat_dictionary.keys():\n",
    "                flat_dictionary[k].append(feature[key][k])\n",
    "            else:\n",
    "                flat_dictionary[k] = [v]\n",
    "\n",
    "print(flat_dictionary)\n",
    "print(\"---------\")\n",
    "for k,v in flat_dictionary.items(): \n",
    "    print(k,v)\n",
    "    \n",
    "    \n",
    "    \n",
    "df_features = pandas.DataFrame.from_dict(flat_dictionary)\n",
    "df_features\n",
    "# for feature in data['features']:\n",
    "#     print(feature['geometry'])\n",
    "#     print(feature['properties'])"
   ]
  }
 ],
 "metadata": {
  "kernelspec": {
   "display_name": "Python 3",
   "language": "python",
   "name": "python3"
  },
  "language_info": {
   "codemirror_mode": {
    "name": "ipython",
    "version": 3
   },
   "file_extension": ".py",
   "mimetype": "text/x-python",
   "name": "python",
   "nbconvert_exporter": "python",
   "pygments_lexer": "ipython3",
   "version": "3.6.2"
  }
 },
 "nbformat": 4,
 "nbformat_minor": 2
}
