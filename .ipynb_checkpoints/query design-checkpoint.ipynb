{
 "cells": [
  {
   "cell_type": "code",
   "execution_count": 2,
   "metadata": {},
   "outputs": [],
   "source": [
    "#for reading from databases\n",
    "import json\n",
    "import psycopg2\n",
    "from geoalchemy2 import Geometry, WKTElement\n",
    "from sqlalchemy import *\n",
    "\n",
    "import pandas as pd\n",
    "import geopandas as gpd\n",
    "from geopandas import GeoSeries, GeoDataFrame\n",
    "import numpy as np\n",
    "\n",
    "import getpass"
   ]
  },
  {
   "cell_type": "code",
   "execution_count": null,
   "metadata": {},
   "outputs": [],
   "source": [
    "#connect to DB and download data\n",
    "# password = getpass.getpass(prompt = 'Password: ')\n",
    "db_credentials_path = '/Users/Jacobus/Documents/Python/msu_denver_db_creds.json'\n",
    "\n",
    "sql = \"SELECT * FROM census_2010; SELECT nbrhd_name from census_2010;\"\n",
    "\n",
    "\n",
    "with open(db_credentials_path,'r') as f:\n",
    "    db_conn_dict = json.load(f)\n",
    "# db_conn_dict['password'] = password\n",
    "\n",
    "connection = psycopg2.connect(**db_conn_dict)\n",
    "\n",
    "df = gpd.read_postgis(sql,connection,\n",
    "                     geom_col='geom',crs={'init':'epsg:4326'},\n",
    "                     coerce_float=False)\n",
    "connection.close()\n",
    "\n",
    "df.head()"
   ]
  }
 ],
 "metadata": {
  "kernelspec": {
   "display_name": "Python 3",
   "language": "python",
   "name": "python3"
  },
  "language_info": {
   "codemirror_mode": {
    "name": "ipython",
    "version": 3
   },
   "file_extension": ".py",
   "mimetype": "text/x-python",
   "name": "python",
   "nbconvert_exporter": "python",
   "pygments_lexer": "ipython3",
   "version": "3.6.2"
  }
 },
 "nbformat": 4,
 "nbformat_minor": 2
}
