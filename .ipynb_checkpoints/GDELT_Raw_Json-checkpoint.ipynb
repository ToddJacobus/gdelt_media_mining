{
 "cells": [
  {
   "cell_type": "code",
   "execution_count": 64,
   "metadata": {
    "collapsed": true
   },
   "outputs": [],
   "source": [
    "import pandas\n",
    "import requests #use requests over 'urllib.request'. Work-around for encoding problem. See: https://stackoverflow.com/questions/47419104/unicodedecodeerror-utf-8-codec-cant-decode-python3\n",
    "import json\n",
    "import geojson\n",
    "import folium"
   ]
  },
  {
   "cell_type": "code",
   "execution_count": 70,
   "metadata": {},
   "outputs": [
    {
     "name": "stdout",
     "output_type": "stream",
     "text": [
      "200\n",
      "<class 'dict'>\n",
      "---------\n",
      "[{'type': 'Feature', 'geometry': {'type': 'Point', 'coordinates': [-66.0, 8.0]}, 'properties': {'urlpubtimedate': '2018-02-01T18:45:00Z', 'name': 'Venezuela', 'urltone': -6.21, 'url': 'http://minci.gob.ve/2018/02/comunicado-venezuela-repudio-acciones-terroristas-en-republica-de-mali/', 'mentionedthemes': ';EPU_POLICY_GOVERNMENT;TERROR;ARMEDCONFLICT;TERROR;ARMEDCONFLICT;TAX_ETHNICITY_VENEZUELAN;GENERAL_GOVERNMENT;GENERAL_GOVERNMENT;KILL;CRISISLEX_CRISISLEXREC;CRISISLEX_T02_INJURED;CRISISLEX_T03_DEAD;EPU_CATS_NATIONAL_SECURITY;TAX_ETHNICITY_MALI;TAX_ETHNICITY_MALI;'}}]\n"
     ]
    }
   ],
   "source": [
    "#GDELT GeoJson Endpoint\n",
    "url = \"https://api.gdeltproject.org/api/v1/gkg_geojson?MAXROWS=1\"\n",
    "\n",
    "#Issue request to URL\n",
    "request = requests.get(url)\n",
    "print(request.status_code)\n",
    "if request.status_code == 200: data = request.json()\n",
    "print(type(data))\n",
    "print(\"---------\")\n",
    "print(data['features'])"
   ]
  },
  {
   "cell_type": "code",
   "execution_count": 71,
   "metadata": {},
   "outputs": [
    {
     "data": {
      "text/html": [
       "<div>\n",
       "<style>\n",
       "    .dataframe thead tr:only-child th {\n",
       "        text-align: right;\n",
       "    }\n",
       "\n",
       "    .dataframe thead th {\n",
       "        text-align: left;\n",
       "    }\n",
       "\n",
       "    .dataframe tbody tr th {\n",
       "        vertical-align: top;\n",
       "    }\n",
       "</style>\n",
       "<table border=\"1\" class=\"dataframe\">\n",
       "  <thead>\n",
       "    <tr style=\"text-align: right;\">\n",
       "      <th></th>\n",
       "      <th>coordinates</th>\n",
       "      <th>mentionedthemes</th>\n",
       "      <th>name</th>\n",
       "      <th>type</th>\n",
       "      <th>url</th>\n",
       "      <th>urlpubtimedate</th>\n",
       "      <th>urltone</th>\n",
       "    </tr>\n",
       "  </thead>\n",
       "  <tbody>\n",
       "    <tr>\n",
       "      <th>0</th>\n",
       "      <td>[-66.0, 8.0]</td>\n",
       "      <td>;EPU_POLICY_GOVERNMENT;TERROR;ARMEDCONFLICT;TE...</td>\n",
       "      <td>Venezuela</td>\n",
       "      <td>Point</td>\n",
       "      <td>http://minci.gob.ve/2018/02/comunicado-venezue...</td>\n",
       "      <td>2018-02-01T18:45:00Z</td>\n",
       "      <td>-6.21</td>\n",
       "    </tr>\n",
       "  </tbody>\n",
       "</table>\n",
       "</div>"
      ],
      "text/plain": [
       "    coordinates                                    mentionedthemes       name  \\\n",
       "0  [-66.0, 8.0]  ;EPU_POLICY_GOVERNMENT;TERROR;ARMEDCONFLICT;TE...  Venezuela   \n",
       "\n",
       "    type                                                url  \\\n",
       "0  Point  http://minci.gob.ve/2018/02/comunicado-venezue...   \n",
       "\n",
       "         urlpubtimedate  urltone  \n",
       "0  2018-02-01T18:45:00Z    -6.21  "
      ]
     },
     "execution_count": 71,
     "metadata": {},
     "output_type": "execute_result"
    }
   ],
   "source": [
    "#I think this solution works!\n",
    "#However, this will probably just work for my data only.\n",
    "\n",
    "flat_dictionary = {}\n",
    "for feature in data['features']:\n",
    "    for key, value in feature.items():\n",
    "      if type(feature[key]) == dict:\n",
    "        for k, v in feature[key].items():\n",
    "            if k in flat_dictionary.keys():\n",
    "                flat_dictionary[k].append(feature[key][k])\n",
    "            else:\n",
    "                flat_dictionary[k] = [v]\n",
    "   \n",
    "df_features = pandas.DataFrame.from_dict(flat_dictionary)\n",
    "df_features"
   ]
  },
  {
   "cell_type": "code",
   "execution_count": 67,
   "metadata": {},
   "outputs": [],
   "source": [
    "#reformat dataframe and expand coordinates into lat/lon columns\n",
    "#use lambda function to iterate over coordinates column?"
   ]
  },
  {
   "cell_type": "code",
   "execution_count": 68,
   "metadata": {
    "collapsed": true
   },
   "outputs": [],
   "source": [
    "#another thing to try\n",
    "#via https://www.haykranen.nl/2016/02/13/handling-complex-nested-dicts-in-python/\n",
    "\n",
    "# class DictQuery(dict):\n",
    "#     def get(self, path, default = None):\n",
    "#         keys = path.split(\"/\")\n",
    "#         val = None\n",
    "\n",
    "#         for key in keys:\n",
    "#             if val:\n",
    "#                 if isinstance(val, list):\n",
    "#                     val = [ v.get(key, default) if v else None for v in val]\n",
    "#                 else:\n",
    "#                     val = val.get(key, default)\n",
    "#             else:\n",
    "#                 val = dict.get(self, key, default)\n",
    "\n",
    "#             if not val:\n",
    "#                 break;\n",
    "\n",
    "#         return val"
   ]
  },
  {
   "cell_type": "code",
   "execution_count": 69,
   "metadata": {},
   "outputs": [],
   "source": [
    "# from: https://stackoverflow.com/questions/12507206/python-recommended-way-to-walk-complex-dictionary-structures-imported-from-json    \n",
    "#a function that flattens dictionaries into lists\n",
    "#I'm not sure how to implement this for my data...\n",
    "# def dict_generator(indict, pre=None):\n",
    "#     pre = pre[:] if pre else []\n",
    "#     if isinstance(indict, dict):\n",
    "#         for key, value in indict.items():\n",
    "#             if isinstance(value, dict):\n",
    "#                 for d in dict_generator(value, [key] + pre):\n",
    "#                     yield d\n",
    "#             elif isinstance(value, list) or isinstance(value, tuple):\n",
    "#                 for v in value:\n",
    "#                     for d in dict_generator(v, [key] + pre):\n",
    "#                         yield d\n",
    "#             else:\n",
    "#                 yield pre + [key, value]\n",
    "#     else:\n",
    "#         yield indict\n",
    "        \n",
    "# for i in dict_generator(data):\n",
    "#     print(i)"
   ]
  }
 ],
 "metadata": {
  "kernelspec": {
   "display_name": "Python 3",
   "language": "python",
   "name": "python3"
  },
  "language_info": {
   "codemirror_mode": {
    "name": "ipython",
    "version": 3
   },
   "file_extension": ".py",
   "mimetype": "text/x-python",
   "name": "python",
   "nbconvert_exporter": "python",
   "pygments_lexer": "ipython3",
   "version": "3.6.2"
  }
 },
 "nbformat": 4,
 "nbformat_minor": 2
}
