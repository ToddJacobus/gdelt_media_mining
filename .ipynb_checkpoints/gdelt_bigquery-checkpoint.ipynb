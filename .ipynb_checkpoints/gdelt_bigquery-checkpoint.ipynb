{
 "cells": [
  {
   "cell_type": "code",
   "execution_count": 19,
   "metadata": {
    "collapsed": true
   },
   "outputs": [],
   "source": [
    "credentials_path = \"/Users/Jacobus/Documents/Python/MediaGeography/My Project-dd3f5afafb0b.json\"\n",
    "\n",
    "# Imports the Google Cloud client library\n",
    "from google.cloud import bigquery\n",
    "# Instantiates a client\n",
    "client = bigquery.Client.from_service_account_json(credentials_path)"
   ]
  },
  {
   "cell_type": "code",
   "execution_count": 25,
   "metadata": {},
   "outputs": [
    {
     "name": "stdout",
     "output_type": "stream",
     "text": [
      "<class 'google.cloud.bigquery.table.RowIterator'>\n",
      "Row(('SCHOOL', 'http://www.sbnation.com/2013/8/26/4660354/who-is-jeff-tuel-hit-jeff-tuel-up-on-the-low-cause-jeff-tuel-about-to-blow', 79.9396681749623, 10), {'Actor1Name': 0, 'SOURCEURL': 1, 'avgtone': 2, 'nummentions': 3})\n",
      "Row((None, 'http://www.sbnation.com/2013/8/26/4660354/who-is-jeff-tuel-hit-jeff-tuel-up-on-the-low-cause-jeff-tuel-about-to-blow', 79.9396681749623, 10), {'Actor1Name': 0, 'SOURCEURL': 1, 'avgtone': 2, 'nummentions': 3})\n",
      "Row(('POLAND', 'http://www.express.co.uk/news/world/412752/Pope-John-Paul-II-WILL-be-made-a-saint-says-Vatican?utm_source=feedburner&utm_medium=feed&utm_campaign=Feed%3A+daily-express-news-showbiz+%28Daily+Express+%3A%3A+News+%2F+Showbiz+Feed%29', 80.2215189873418, 1), {'Actor1Name': 0, 'SOURCEURL': 1, 'avgtone': 2, 'nummentions': 3})\n",
      "Row((None, 'http://www.express.co.uk/news/world/412752/Pope-John-Paul-II-WILL-be-made-a-saint-says-Vatican?utm_source=feedburner&utm_medium=feed&utm_campaign=Feed%3A+daily-express-news-showbiz+%28Daily+Express+%3A%3A+News+%2F+Showbiz+Feed%29', 80.2215189873418, 3), {'Actor1Name': 0, 'SOURCEURL': 1, 'avgtone': 2, 'nummentions': 3})\n"
     ]
    }
   ],
   "source": [
    "query_job = client.query(\"\"\"\n",
    "    SELECT Actor1Name, SOURCEURL, avgtone, nummentions\n",
    "    FROM `gdelt-bq.full.events`\n",
    "    WHERE avgtone > 75\n",
    "    ORDER BY SQLDATE DESC\n",
    "    LIMIT 10\n",
    "    \"\"\")\n",
    "\n",
    "results = query_job.result()\n",
    "print(type(results))\n",
    "for row in results:\n",
    "    print(row)"
   ]
  },
  {
   "cell_type": "code",
   "execution_count": 22,
   "metadata": {},
   "outputs": [
    {
     "ename": "ValueError",
     "evalue": "('Iterator has already started', <google.cloud.bigquery.table.RowIterator object at 0x109f50fd0>)",
     "output_type": "error",
     "traceback": [
      "\u001b[0;31m---------------------------------------------------------------------------\u001b[0m",
      "\u001b[0;31mValueError\u001b[0m                                Traceback (most recent call last)",
      "\u001b[0;32m<ipython-input-22-ab19fc32ac45>\u001b[0m in \u001b[0;36m<module>\u001b[0;34m()\u001b[0m\n\u001b[0;32m----> 1\u001b[0;31m \u001b[0;32mfor\u001b[0m \u001b[0mrow\u001b[0m \u001b[0;32min\u001b[0m \u001b[0mresults\u001b[0m\u001b[0;34m:\u001b[0m\u001b[0;34m\u001b[0m\u001b[0m\n\u001b[0m\u001b[1;32m      2\u001b[0m     \u001b[0mprint\u001b[0m\u001b[0;34m(\u001b[0m\u001b[0;34m\"Actor: {} Tone: {} NumMentions: {} Source: {}\"\u001b[0m\u001b[0;34m.\u001b[0m\u001b[0mformat\u001b[0m\u001b[0;34m(\u001b[0m\u001b[0mrow\u001b[0m\u001b[0;34m.\u001b[0m\u001b[0mActor1Name\u001b[0m\u001b[0;34m,\u001b[0m \u001b[0mrow\u001b[0m\u001b[0;34m.\u001b[0m\u001b[0mavgtone\u001b[0m\u001b[0;34m,\u001b[0m \u001b[0mrow\u001b[0m\u001b[0;34m.\u001b[0m\u001b[0mNumMentions\u001b[0m\u001b[0;34m,\u001b[0m \u001b[0mrow\u001b[0m\u001b[0;34m.\u001b[0m\u001b[0msourceurl\u001b[0m\u001b[0;34m)\u001b[0m\u001b[0;34m)\u001b[0m\u001b[0;34m\u001b[0m\u001b[0m\n",
      "\u001b[0;32m/Library/Frameworks/Python.framework/Versions/3.6/lib/python3.6/site-packages/google/api_core/page_iterator.py\u001b[0m in \u001b[0;36m__iter__\u001b[0;34m(self)\u001b[0m\n\u001b[1;32m    199\u001b[0m         \"\"\"\n\u001b[1;32m    200\u001b[0m         \u001b[0;32mif\u001b[0m \u001b[0mself\u001b[0m\u001b[0;34m.\u001b[0m\u001b[0m_started\u001b[0m\u001b[0;34m:\u001b[0m\u001b[0;34m\u001b[0m\u001b[0m\n\u001b[0;32m--> 201\u001b[0;31m             \u001b[0;32mraise\u001b[0m \u001b[0mValueError\u001b[0m\u001b[0;34m(\u001b[0m\u001b[0;34m'Iterator has already started'\u001b[0m\u001b[0;34m,\u001b[0m \u001b[0mself\u001b[0m\u001b[0;34m)\u001b[0m\u001b[0;34m\u001b[0m\u001b[0m\n\u001b[0m\u001b[1;32m    202\u001b[0m         \u001b[0mself\u001b[0m\u001b[0;34m.\u001b[0m\u001b[0m_started\u001b[0m \u001b[0;34m=\u001b[0m \u001b[0;32mTrue\u001b[0m\u001b[0;34m\u001b[0m\u001b[0m\n\u001b[1;32m    203\u001b[0m         \u001b[0;32mreturn\u001b[0m \u001b[0mself\u001b[0m\u001b[0;34m.\u001b[0m\u001b[0m_items_iter\u001b[0m\u001b[0;34m(\u001b[0m\u001b[0;34m)\u001b[0m\u001b[0;34m\u001b[0m\u001b[0m\n",
      "\u001b[0;31mValueError\u001b[0m: ('Iterator has already started', <google.cloud.bigquery.table.RowIterator object at 0x109f50fd0>)"
     ]
    }
   ],
   "source": [
    "for row in results:\n",
    "    print(\"Actor: {} Tone: {} NumMentions: {} Source: {}\".format(row.Actor1Name, row.avgtone, row.NumMentions, row.sourceurl))"
   ]
  },
  {
   "cell_type": "code",
   "execution_count": null,
   "metadata": {
    "collapsed": true
   },
   "outputs": [],
   "source": []
  }
 ],
 "metadata": {
  "kernelspec": {
   "display_name": "Python 3",
   "language": "python",
   "name": "python3"
  },
  "language_info": {
   "codemirror_mode": {
    "name": "ipython",
    "version": 3
   },
   "file_extension": ".py",
   "mimetype": "text/x-python",
   "name": "python",
   "nbconvert_exporter": "python",
   "pygments_lexer": "ipython3",
   "version": "3.6.2"
  }
 },
 "nbformat": 4,
 "nbformat_minor": 2
}
