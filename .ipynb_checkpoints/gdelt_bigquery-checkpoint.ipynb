{
 "cells": [
  {
   "cell_type": "code",
   "execution_count": 26,
   "metadata": {
    "collapsed": true
   },
   "outputs": [],
   "source": [
    "credentials_path = \"/Users/Jacobus/Documents/Python/MediaGeography/My Project-dd3f5afafb0b.json\"\n",
    "\n",
    "# Imports the Google Cloud client library\n",
    "from google.cloud import bigquery\n",
    "# Instantiates a client\n",
    "client = bigquery.Client.from_service_account_json(credentials_path)"
   ]
  },
  {
   "cell_type": "code",
   "execution_count": 35,
   "metadata": {},
   "outputs": [
    {
     "name": "stdout",
     "output_type": "stream",
     "text": [
      "<class 'google.cloud.bigquery.table.RowIterator'>\n",
      "http://www.geelongadvertiser.com.au/news/world/shooting-at-texas-baptist-church-in-sutherland-springs-as-police-report-multiple-victims-of-active-gunman/news-story/6ccfe98092c62d2c263ca983df006c57?nk=91db8d279f021d018f2f2cc746662f12-1509925582\n",
      "http://www.850wftl.com/watch-vigil-held-las-vegas-victims/\n",
      "http://www.lasvegasnow.com/news/update-child-found-safe-father-still-on-the-run-after-shooting-ex-wife-kidnapping-/822202333\n",
      "http://www.express.co.uk/news/uk/816842/fire-london-lancaster-west-estate-police-firefighters-blaze-huge\n",
      "http://www.express.co.uk/news/uk/816842/fire-london-lancaster-west-estate-police-firefighters-blaze-huge\n",
      "https://sputniknews.com/europe/201704071052409770-truck-people-stockholm-ramming/\n",
      "http://www.1310news.com/2017/03/01/white-house-staff-told-to-preserve-russia-related-materials/\n",
      "http://trib.com/opinion/columns/milbank-the-most-important-word-trump-didn-t-say-in/article_bdb294f9-f2f6-5dc7-a8f8-f7eee34f219d.html\n",
      "http://kanw.com/post/sensing-chaos-russia-takes-wait-and-see-approach-trump\n",
      "http://www.12news.com/news/politics/national-politics/michelle-obama-side-eyeing-melania-trump-is-inauguration-days-best-meme/389088451\n"
     ]
    }
   ],
   "source": [
    "query_job = client.query(\"\"\"\n",
    "    SELECT Actor1Name, SOURCEURL, avgtone, nummentions\n",
    "    FROM `gdelt-bq.full.events`\n",
    "    WHERE NumMentions > 20000\n",
    "    ORDER BY SQLDATE DESC\n",
    "    LIMIT 10\n",
    "    \"\"\")\n",
    "\n",
    "results = query_job.result()\n",
    "print(type(results))\n",
    "for row in results:\n",
    "    print(row.SOURCEURL)"
   ]
  },
  {
   "cell_type": "code",
   "execution_count": null,
   "metadata": {
    "collapsed": true
   },
   "outputs": [],
   "source": []
  }
 ],
 "metadata": {
  "kernelspec": {
   "display_name": "Python 3",
   "language": "python",
   "name": "python3"
  },
  "language_info": {
   "codemirror_mode": {
    "name": "ipython",
    "version": 3
   },
   "file_extension": ".py",
   "mimetype": "text/x-python",
   "name": "python",
   "nbconvert_exporter": "python",
   "pygments_lexer": "ipython3",
   "version": "3.6.2"
  }
 },
 "nbformat": 4,
 "nbformat_minor": 2
}
