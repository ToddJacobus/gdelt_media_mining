{
 "cells": [
  {
   "cell_type": "code",
   "execution_count": 1,
   "metadata": {},
   "outputs": [
    {
     "name": "stderr",
     "output_type": "stream",
     "text": [
      "/Library/Frameworks/Python.framework/Versions/3.6/lib/python3.6/site-packages/psycopg2/__init__.py:144: UserWarning: The psycopg2 wheel package will be renamed from release 2.8; in order to keep installing from binary please use \"pip install psycopg2-binary\" instead. For details see: <http://initd.org/psycopg/docs/install.html#binary-install-from-pypi>.\n",
      "  \"\"\")\n"
     ]
    }
   ],
   "source": [
    "\n",
    "#GDELT API v2 documentation: https://blog.gdeltproject.org/gdelt-geo-2-0-api-debuts/\n",
    "\n",
    "\n",
    "import pandas\n",
    "import requests #use requests over 'urllib.request'. Work-around for encoding problem. See: https://stackoverflow.com/questions/47419104/unicodedecodeerror-utf-8-codec-cant-decode-python3\n",
    "import json\n",
    "from geojson import MultiPoint\n",
    "import folium\n",
    "from folium import IFrame #folium does not have a .element object/attribute see https://github.com/python-visualization/folium/issues/774\n",
    "from bs4 import BeautifulSoup\n",
    "import geopandas as gpd\n",
    "from shapely.geometry import mapping, shape\n",
    "from shapely.wkt import dumps, loads\n",
    "\n",
    "from shapely.geometry import Point\n",
    "import pandas as pd\n",
    "import geopandas as gpd\n",
    "from geopandas import GeoSeries, GeoDataFrame\n",
    "\n",
    "#for reading from databases\n",
    "import json\n",
    "import psycopg2\n",
    "from geoalchemy2 import Geometry, WKTElement\n",
    "from sqlalchemy import *\n",
    "\n",
    "import getpass\n",
    "import datetime"
   ]
  },
  {
   "cell_type": "code",
   "execution_count": 2,
   "metadata": {},
   "outputs": [
    {
     "name": "stdout",
     "output_type": "stream",
     "text": [
      "Password: ········\n",
      "<class 'geopandas.geodataframe.GeoDataFrame'>\n",
      "RangeIndex: 1631 entries, 0 to 1630\n",
      "Data columns (total 10 columns):\n",
      "allmentionedthemes    1631 non-null object\n",
      "coordinates           1631 non-null object\n",
      "geores                1631 non-null int64\n",
      "oneurl                1631 non-null object\n",
      "sumtotalmentions      1631 non-null int64\n",
      "type                  1631 non-null object\n",
      "urlpubtimedate        1631 non-null datetime64[ns]\n",
      "lon                   1631 non-null float64\n",
      "lat                   1631 non-null float64\n",
      "geom                  1631 non-null object\n",
      "dtypes: datetime64[ns](1), float64(2), int64(2), object(5)\n",
      "memory usage: 127.5+ KB\n"
     ]
    }
   ],
   "source": [
    "#get data from msu database\n",
    "password = getpass.getpass(prompt='Password: ')\n",
    "db_credentials_path = '/Users/Jacobus/Documents/Python/msu_denver_db_creds.json'\n",
    "with open(db_credentials_path,'r') as f:\n",
    "    db_conn_dict = json.load(f)\n",
    "db_conn_dict['password'] = password\n",
    "\n",
    "connection = psycopg2.connect(**db_conn_dict)\n",
    "\n",
    "#read data from db\n",
    "df_m = gpd.read_postgis(\"select * from gdelt_mentions\", connection, \n",
    "                            geom_col='geom', crs={'init':'epsg:4326'},\n",
    "                            coerce_float=False)\n",
    "\n",
    "\n",
    "connection.close()\n",
    "\n",
    "df_m.info()"
   ]
  },
  {
   "cell_type": "code",
   "execution_count": null,
   "metadata": {
    "collapsed": true
   },
   "outputs": [],
   "source": [
    "# principle component analysis with sci kit learn\n",
    "#http://scikit-learn.org/stable/modules/generated/sklearn.decomposition.PCA.html"
   ]
  }
 ],
 "metadata": {
  "kernelspec": {
   "display_name": "Python 3",
   "language": "python",
   "name": "python3"
  },
  "language_info": {
   "codemirror_mode": {
    "name": "ipython",
    "version": 3
   },
   "file_extension": ".py",
   "mimetype": "text/x-python",
   "name": "python",
   "nbconvert_exporter": "python",
   "pygments_lexer": "ipython3",
   "version": "3.6.2"
  }
 },
 "nbformat": 4,
 "nbformat_minor": 2
}
