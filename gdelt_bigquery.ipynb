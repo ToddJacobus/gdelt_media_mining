{
 "cells": [
  {
   "cell_type": "code",
   "execution_count": 1,
   "metadata": {
    "collapsed": true
   },
   "outputs": [],
   "source": [
    "credentials_path = \"/Users/Jacobus/Documents/Python/BigQuery_Credentials/My Project-dd3f5afafb0b.json\"\n",
    "\n",
    "# Imports the Google Cloud client library\n",
    "from google.cloud import bigquery\n",
    "# Instantiates a client\n",
    "client = bigquery.Client.from_service_account_json(credentials_path)"
   ]
  },
  {
   "cell_type": "code",
   "execution_count": 5,
   "metadata": {},
   "outputs": [
    {
     "name": "stdout",
     "output_type": "stream",
     "text": [
      "<class 'google.cloud.bigquery.table.RowIterator'>\n",
      "https://boom997.com/news/4001381/donald-trump-fbi-memo-release/\n",
      "http://www.nzherald.co.nz/entertainment/news/article.cfm?c_id=1501119&objectid=11986088\n",
      "http://cnycentral.com/news/nation-world/suspect-arrested-in-shooting-at-los-angeles-middle-school-02-01-2018-173354814\n",
      "http://www.westernmassnews.com/story/37379017/trump-to-call-for-unity-in-address-after-divisive-year\n",
      "http://www.wlky.com/article/government-shutdown-where-the-senators-stand/15393598\n",
      "http://www.register-herald.com/region/shutdown-deadline-nears-no-accord-in-trump-schumer-meeting/article_e4ae4cdf-382d-5665-99bc-ec8915052af4.html\n",
      "http://www.wtvm.com/story/37240885/trump-why-allow-immigrants-from-shithole-countries\n",
      "http://www.townandcountrymag.com/society/politics/a14754194/breitbart-considers-axing-steve-bannon/\n",
      "https://wmeq.iheart.com/content/2017-12-17-atlantas-hartsfield-jackson-airport-loses-power/\n",
      "http://www.sunherald.com/news/business/article190253674.html\n"
     ]
    }
   ],
   "source": [
    "query_job = client.query(\"\"\"\n",
    "    SELECT SOURCEURL\n",
    "    FROM `gdelt-bq.full.events`\n",
    "    WHERE NumMentions > 10000\n",
    "    ORDER BY SQLDATE DESC\n",
    "    LIMIT 10\n",
    "    \"\"\")\n",
    "\n",
    "results = query_job.result()\n",
    "print(type(results))\n",
    "for row in results:\n",
    "    print(row.SOURCEURL)"
   ]
  },
  {
   "cell_type": "code",
   "execution_count": null,
   "metadata": {
    "collapsed": true
   },
   "outputs": [],
   "source": []
  }
 ],
 "metadata": {
  "kernelspec": {
   "display_name": "Python 3",
   "language": "python",
   "name": "python3"
  },
  "language_info": {
   "codemirror_mode": {
    "name": "ipython",
    "version": 3
   },
   "file_extension": ".py",
   "mimetype": "text/x-python",
   "name": "python",
   "nbconvert_exporter": "python",
   "pygments_lexer": "ipython3",
   "version": "3.6.2"
  }
 },
 "nbformat": 4,
 "nbformat_minor": 2
}
