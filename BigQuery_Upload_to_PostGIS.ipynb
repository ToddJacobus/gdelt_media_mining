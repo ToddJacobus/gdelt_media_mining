{
 "cells": [
  {
   "cell_type": "code",
   "execution_count": 16,
   "metadata": {
    "collapsed": true
   },
   "outputs": [],
   "source": [
    "# I've taken this out of jupyter notebook for the sake of automating ##\n",
    "# data collection over every desired date range\n",
    "# I'll leave this here for reference\n",
    "#####################\n",
    "\n",
    "credentials_path = \"/Users/Jacobus/Documents/Python/BigQuery_Credentials/My Project-dd3f5afafb0b.json\"\n",
    "\n",
    "# Imports the Google Cloud client library\n",
    "from google.cloud import bigquery\n",
    "import google.datalab.bigquery as bq\n",
    "import pandas\n",
    "# import pandas.gbq\n",
    "\n",
    "from shapely.geometry import Point\n",
    "import pandas as pd\n",
    "import geopandas as gpd\n",
    "from geopandas import GeoSeries, GeoDataFrame\n",
    "from geoalchemy2 import Geometry, WKTElement\n",
    "from sqlalchemy import *\n",
    "import getpass\n",
    "\n",
    "# Instantiates a client\n",
    "client = bigquery.Client.from_service_account_json(credentials_path)"
   ]
  },
  {
   "cell_type": "code",
   "execution_count": 7,
   "metadata": {},
   "outputs": [
    {
     "name": "stdout",
     "output_type": "stream",
     "text": [
      "Retrieved 25 rows...\n",
      "Dictionary keys: dict_keys(['globaleventid', 'sqldate', 'ActionGeo_Lat', 'ActionGeo_Long'])\n"
     ]
    }
   ],
   "source": [
    "#make the big query\n",
    "#column names to query:\n",
    "    # GLOBALEVENTID\n",
    "    # SQLDATE -- YYYYMMDD\n",
    "    # ActionGeo_Lat\n",
    "    # ActionGeo_Lon\n",
    "    # NumArticles\n",
    "    # AvgTone\n",
    "#where date = [...]\n",
    "#where location type = city-level\n",
    "#where action_geo is not null\n",
    "    \n",
    "query_job = client.query(\"\"\"\n",
    "    SELECT GLOBALEVENTID, SQLDATE, ActionGeo_Lat, ActionGeo_Long\n",
    "    FROM `gdelt-bq.full.events`\n",
    "    WHERE SQLDATE = 20180409 AND ActionGeo_Lat is NOT NULL\n",
    "    LIMIT 25;\n",
    "    \"\"\")\n",
    "\n",
    "query_dict = {\n",
    "    'globaleventid':[],\n",
    "    'sqldate':[],\n",
    "    'ActionGeo_Lat':[],\n",
    "    'ActionGeo_Long':[]\n",
    "}\n",
    "\n",
    "results = query_job.result()\n",
    "# print(type(results))\n",
    "nrows = 0\n",
    "for row in results:\n",
    "    nrows+=1\n",
    "    query_dict['globaleventid'].append(row.GLOBALEVENTID)\n",
    "    query_dict['sqldate'].append(row.SQLDATE)\n",
    "    query_dict['ActionGeo_Lat'].append(row.ActionGeo_Lat)\n",
    "    query_dict['ActionGeo_Long'].append(row.ActionGeo_Long)\n",
    "print(\"Retrieved {} rows...\".format(nrows))\n",
    "print(\"Dictionary keys: {}\".format(query_dict.keys()))\n",
    "    "
   ]
  },
  {
   "cell_type": "code",
   "execution_count": 9,
   "metadata": {},
   "outputs": [
    {
     "data": {
      "text/html": [
       "<div>\n",
       "<style scoped>\n",
       "    .dataframe tbody tr th:only-of-type {\n",
       "        vertical-align: middle;\n",
       "    }\n",
       "\n",
       "    .dataframe tbody tr th {\n",
       "        vertical-align: top;\n",
       "    }\n",
       "\n",
       "    .dataframe thead th {\n",
       "        text-align: right;\n",
       "    }\n",
       "</style>\n",
       "<table border=\"1\" class=\"dataframe\">\n",
       "  <thead>\n",
       "    <tr style=\"text-align: right;\">\n",
       "      <th></th>\n",
       "      <th>ActionGeo_Lat</th>\n",
       "      <th>ActionGeo_Long</th>\n",
       "      <th>globaleventid</th>\n",
       "      <th>sqldate</th>\n",
       "    </tr>\n",
       "  </thead>\n",
       "  <tbody>\n",
       "    <tr>\n",
       "      <th>0</th>\n",
       "      <td>7.0</td>\n",
       "      <td>81.0</td>\n",
       "      <td>746125028</td>\n",
       "      <td>20180409</td>\n",
       "    </tr>\n",
       "    <tr>\n",
       "      <th>1</th>\n",
       "      <td>7.0</td>\n",
       "      <td>81.0</td>\n",
       "      <td>746125026</td>\n",
       "      <td>20180409</td>\n",
       "    </tr>\n",
       "    <tr>\n",
       "      <th>2</th>\n",
       "      <td>7.0</td>\n",
       "      <td>81.0</td>\n",
       "      <td>746125025</td>\n",
       "      <td>20180409</td>\n",
       "    </tr>\n",
       "    <tr>\n",
       "      <th>3</th>\n",
       "      <td>-18.0</td>\n",
       "      <td>178.0</td>\n",
       "      <td>746153590</td>\n",
       "      <td>20180409</td>\n",
       "    </tr>\n",
       "    <tr>\n",
       "      <th>4</th>\n",
       "      <td>-18.0</td>\n",
       "      <td>178.0</td>\n",
       "      <td>746153593</td>\n",
       "      <td>20180409</td>\n",
       "    </tr>\n",
       "  </tbody>\n",
       "</table>\n",
       "</div>"
      ],
      "text/plain": [
       "   ActionGeo_Lat  ActionGeo_Long  globaleventid   sqldate\n",
       "0            7.0            81.0      746125028  20180409\n",
       "1            7.0            81.0      746125026  20180409\n",
       "2            7.0            81.0      746125025  20180409\n",
       "3          -18.0           178.0      746153590  20180409\n",
       "4          -18.0           178.0      746153593  20180409"
      ]
     },
     "execution_count": 9,
     "metadata": {},
     "output_type": "execute_result"
    }
   ],
   "source": [
    "df = pandas.DataFrame.from_dict(query_dict)\n",
    "df.head()"
   ]
  },
  {
   "cell_type": "code",
   "execution_count": 17,
   "metadata": {},
   "outputs": [
    {
     "name": "stdout",
     "output_type": "stream",
     "text": [
      "Password: ········\n"
     ]
    },
    {
     "name": "stderr",
     "output_type": "stream",
     "text": [
      "/Library/Frameworks/Python.framework/Versions/3.6/lib/python3.6/site-packages/psycopg2/__init__.py:144: UserWarning: The psycopg2 wheel package will be renamed from release 2.8; in order to keep installing from binary please use \"pip install psycopg2-binary\" instead. For details see: <http://initd.org/psycopg/docs/install.html#binary-install-from-pypi>.\n",
      "  \"\"\")\n"
     ]
    }
   ],
   "source": [
    "# make geometry column\n",
    "geometry = [Point(xy) for xy in zip(df['ActionGeo_Long'],df['ActionGeo_Lat'])]\n",
    "gdf = GeoDataFrame(df,geometry=geometry)\n",
    "\n",
    "#see for GeoAlchemy solution: https://gis.stackexchange.com/questions/239198/geopandas-dataframe-to-postgis-table-help\n",
    "password = getpass.getpass(prompt='Password: ')\n",
    "engine = create_engine('postgresql://rjacobus:{}@gis4870.msudenver.edu:5432/rjacobus'.format(password))\n",
    "\n",
    "#fix geometry column\n",
    "gdf['geom'] = gdf['geometry'].apply(lambda x: WKTElement(x.wkt,srid=4326))\n",
    "#drop the old geometry column\n",
    "gdf.drop('geometry',1,inplace=True)\n",
    "\n",
    "#append data to data table\n",
    "gdf.to_sql('bigquery_test',engine, if_exists='append',index=False,\n",
    "          dtype={\n",
    "              'geom': Geometry('POINT',srid=4326),\n",
    "              'urlpubtimedate': DateTime()\n",
    "          })"
   ]
  },
  {
   "cell_type": "code",
   "execution_count": 2,
   "metadata": {
    "collapsed": true
   },
   "outputs": [],
   "source": [
    "# query_job = client.query(\"\"\"\n",
    "#     SELECT SOURCEURL\n",
    "#     FROM `gdelt-bq.full.events`\n",
    "#     WHERE NumMentions > 10000\n",
    "#     ORDER BY SQLDATE DESC\n",
    "#     LIMIT 10\n",
    "#     \"\"\")\n",
    "\n",
    "#column names to query:\n",
    "    # GLOBALEVENTID\n",
    "    # SQLDATE -- YYYYMMDD\n",
    "    # ActionGeo_Lat\n",
    "    # ActionGeo_Lon\n",
    "    # NumArticles\n",
    "    # AvgTone\n",
    "    \n",
    "#query structure (conditionals):\n",
    "    # once per month for the last 10 years = 12*10 = 120\n",
    "        # WHERE SQLDATE = 20080101, 20080201...20180101, 20180201 how do we do this?\n",
    "            # loop through with python, extracting a time slice for each of the 120 slices\n",
    "            # append to table in database\n",
    "        # WHERE NumArticles > 1\n",
    "\n",
    "\n",
    "#query each event and group by location later:\n",
    "    #each city level event\n",
    "    #every __ time interval\n",
    "\n",
    "#columns:\n",
    "    #SQLDATE\n",
    "    #GLOBALEVENTID\n",
    "    #Actor1Type1Code\n",
    "    #NumMentions\n",
    "    #NumSources\n",
    "\n",
    "# results = query_job.result()\n",
    "# print(type(results))\n",
    "# for row in results:\n",
    "#     print(row.SOURCEURL)"
   ]
  },
  {
   "cell_type": "code",
   "execution_count": 4,
   "metadata": {},
   "outputs": [
    {
     "ename": "AttributeError",
     "evalue": "'QueryJob' object has no attribute 'execute'",
     "output_type": "error",
     "traceback": [
      "\u001b[0;31m---------------------------------------------------------------------------\u001b[0m",
      "\u001b[0;31mAttributeError\u001b[0m                            Traceback (most recent call last)",
      "\u001b[0;32m<ipython-input-4-9b9b65bab98d>\u001b[0m in \u001b[0;36m<module>\u001b[0;34m()\u001b[0m\n\u001b[1;32m     16\u001b[0m     \"\"\")\n\u001b[1;32m     17\u001b[0m \u001b[0;34m\u001b[0m\u001b[0m\n\u001b[0;32m---> 18\u001b[0;31m \u001b[0mdf\u001b[0m \u001b[0;34m=\u001b[0m \u001b[0mquery_job\u001b[0m\u001b[0;34m.\u001b[0m\u001b[0mexecute\u001b[0m\u001b[0;34m(\u001b[0m\u001b[0moutput_options\u001b[0m\u001b[0;34m=\u001b[0m\u001b[0mclient\u001b[0m\u001b[0;34m.\u001b[0m\u001b[0mQueryOutput\u001b[0m\u001b[0;34m.\u001b[0m\u001b[0mdataframe\u001b[0m\u001b[0;34m(\u001b[0m\u001b[0;34m)\u001b[0m\u001b[0;34m)\u001b[0m\u001b[0;34m.\u001b[0m\u001b[0mresult\u001b[0m\u001b[0;34m(\u001b[0m\u001b[0;34m)\u001b[0m\u001b[0;34m\u001b[0m\u001b[0m\n\u001b[0m\u001b[1;32m     19\u001b[0m \u001b[0;31m# results = query_job.result()\u001b[0m\u001b[0;34m\u001b[0m\u001b[0;34m\u001b[0m\u001b[0m\n\u001b[1;32m     20\u001b[0m \u001b[0;31m# print(type(results))\u001b[0m\u001b[0;34m\u001b[0m\u001b[0;34m\u001b[0m\u001b[0m\n",
      "\u001b[0;31mAttributeError\u001b[0m: 'QueryJob' object has no attribute 'execute'"
     ]
    }
   ],
   "source": [
    "#see for bigquery table to pandas tutorial: https://cloud.google.com/bigquery/docs/visualize-datalab\n",
    "# for date in dates:\n",
    "#     query_job = client.query(\"\"\"\n",
    "#         SELECT GLOBALEVENTID, SQLDATE, ActionGeo_Lat, ActionGeo_Lon, NumArticles, AvgTone\n",
    "#         FROM `gdelt-bq.full.events`\n",
    "#         WHERE SQLDATE = {}\n",
    "#         \"\"\".format(date))\n",
    "    \n",
    "#     results = query_job.result()\n",
    "    \n",
    "query_job = client.query(\"\"\"\n",
    "    SELECT SQLDATE\n",
    "    FROM `gdelt-bq.full.events`\n",
    "    WHERE SQLDATE = 20180404\n",
    "    LIMIT 10\n",
    "    \"\"\")\n",
    "\n",
    "df = query_job.execute(output_options=client.QueryOutput.dataframe()).result()\n",
    "# results = query_job.result()\n",
    "# print(type(results))\n",
    "# for row in results:\n",
    "#     print(row,type(row))\n",
    "\n",
    "df.head()\n",
    "    \n",
    "# total_births = bq.Query('SELECT CAST(source_year AS string) AS year, COUNT(is_male) AS birth_count FROM `publicdata.samples.natality` GROUP BY year ORDER BY year DESC LIMIT 15')\n",
    "# df = total_births.execute(output_options=bq.QueryOutput.dataframe()).result()\n",
    "# df.head(10)"
   ]
  },
  {
   "cell_type": "code",
   "execution_count": 13,
   "metadata": {},
   "outputs": [
    {
     "ename": "ImportError",
     "evalue": "pandas-gbq requires google-cloud-bigquery >= 0.29.0, current version 0.28.0",
     "output_type": "error",
     "traceback": [
      "\u001b[0;31m---------------------------------------------------------------------------\u001b[0m",
      "\u001b[0;31mImportError\u001b[0m                               Traceback (most recent call last)",
      "\u001b[0;32m<ipython-input-13-3f6d68055084>\u001b[0m in \u001b[0;36m<module>\u001b[0;34m()\u001b[0m\n\u001b[1;32m      3\u001b[0m \u001b[0mquery\u001b[0m \u001b[0;34m=\u001b[0m \u001b[0;34m\"SELECT SQLDATE FROM `gdelt-bq.full.events` WHERE SQLDATE = 20180404 LIMIT 10\"\u001b[0m\u001b[0;34m\u001b[0m\u001b[0m\n\u001b[1;32m      4\u001b[0m \u001b[0;34m\u001b[0m\u001b[0m\n\u001b[0;32m----> 5\u001b[0;31m \u001b[0mdf\u001b[0m \u001b[0;34m=\u001b[0m \u001b[0mpandas\u001b[0m\u001b[0;34m.\u001b[0m\u001b[0mread_gbq\u001b[0m\u001b[0;34m(\u001b[0m\u001b[0mquery\u001b[0m\u001b[0;34m,\u001b[0m\u001b[0;34m'my-project-1509128544178'\u001b[0m\u001b[0;34m,\u001b[0m\u001b[0mcredentials_path\u001b[0m\u001b[0;34m)\u001b[0m\u001b[0;34m\u001b[0m\u001b[0m\n\u001b[0m\u001b[1;32m      6\u001b[0m \u001b[0mdf\u001b[0m\u001b[0;34m.\u001b[0m\u001b[0mhead\u001b[0m\u001b[0;34m(\u001b[0m\u001b[0;34m)\u001b[0m\u001b[0;34m\u001b[0m\u001b[0m\n",
      "\u001b[0;32m/Library/Frameworks/Python.framework/Versions/3.6/lib/python3.6/site-packages/pandas/io/gbq.py\u001b[0m in \u001b[0;36mread_gbq\u001b[0;34m(query, project_id, index_col, col_order, reauth, verbose, private_key, dialect, **kwargs)\u001b[0m\n\u001b[1;32m     97\u001b[0m         \u001b[0mprivate_key\u001b[0m\u001b[0;34m=\u001b[0m\u001b[0mprivate_key\u001b[0m\u001b[0;34m,\u001b[0m\u001b[0;34m\u001b[0m\u001b[0m\n\u001b[1;32m     98\u001b[0m         \u001b[0mdialect\u001b[0m\u001b[0;34m=\u001b[0m\u001b[0mdialect\u001b[0m\u001b[0;34m,\u001b[0m\u001b[0;34m\u001b[0m\u001b[0m\n\u001b[0;32m---> 99\u001b[0;31m         **kwargs)\n\u001b[0m\u001b[1;32m    100\u001b[0m \u001b[0;34m\u001b[0m\u001b[0m\n\u001b[1;32m    101\u001b[0m \u001b[0;34m\u001b[0m\u001b[0m\n",
      "\u001b[0;32m/Library/Frameworks/Python.framework/Versions/3.6/lib/python3.6/site-packages/pandas_gbq/gbq.py\u001b[0m in \u001b[0;36mread_gbq\u001b[0;34m(query, project_id, index_col, col_order, reauth, verbose, private_key, auth_local_webserver, dialect, **kwargs)\u001b[0m\n\u001b[1;32m    802\u001b[0m     \"\"\"\n\u001b[1;32m    803\u001b[0m \u001b[0;34m\u001b[0m\u001b[0m\n\u001b[0;32m--> 804\u001b[0;31m     \u001b[0m_test_google_api_imports\u001b[0m\u001b[0;34m(\u001b[0m\u001b[0;34m)\u001b[0m\u001b[0;34m\u001b[0m\u001b[0m\n\u001b[0m\u001b[1;32m    805\u001b[0m \u001b[0;34m\u001b[0m\u001b[0m\n\u001b[1;32m    806\u001b[0m     \u001b[0;32mif\u001b[0m \u001b[0mverbose\u001b[0m \u001b[0;32mis\u001b[0m \u001b[0;32mnot\u001b[0m \u001b[0;32mNone\u001b[0m \u001b[0;32mand\u001b[0m \u001b[0mSHOW_VERBOSE_DEPRECATION\u001b[0m\u001b[0;34m:\u001b[0m\u001b[0;34m\u001b[0m\u001b[0m\n",
      "\u001b[0;32m/Library/Frameworks/Python.framework/Versions/3.6/lib/python3.6/site-packages/pandas_gbq/gbq.py\u001b[0m in \u001b[0;36m_test_google_api_imports\u001b[0;34m()\u001b[0m\n\u001b[1;32m     67\u001b[0m             \"pandas-gbq requires google-cloud-bigquery: {0}\".format(ex))\n\u001b[1;32m     68\u001b[0m \u001b[0;34m\u001b[0m\u001b[0m\n\u001b[0;32m---> 69\u001b[0;31m     \u001b[0m_check_google_client_version\u001b[0m\u001b[0;34m(\u001b[0m\u001b[0;34m)\u001b[0m\u001b[0;34m\u001b[0m\u001b[0m\n\u001b[0m\u001b[1;32m     70\u001b[0m \u001b[0;34m\u001b[0m\u001b[0m\n\u001b[1;32m     71\u001b[0m \u001b[0;34m\u001b[0m\u001b[0m\n",
      "\u001b[0;32m/Library/Frameworks/Python.framework/Versions/3.6/lib/python3.6/site-packages/pandas_gbq/gbq.py\u001b[0m in \u001b[0;36m_check_google_client_version\u001b[0;34m()\u001b[0m\n\u001b[1;32m     36\u001b[0m             \u001b[0;34m'pandas-gbq requires google-cloud-bigquery >= {0}, '\u001b[0m\u001b[0;34m\u001b[0m\u001b[0m\n\u001b[1;32m     37\u001b[0m             'current version {1}'.format(\n\u001b[0;32m---> 38\u001b[0;31m                 bigquery_minimum_version, BIGQUERY_INSTALLED_VERSION))\n\u001b[0m\u001b[1;32m     39\u001b[0m \u001b[0;34m\u001b[0m\u001b[0m\n\u001b[1;32m     40\u001b[0m     \u001b[0;31m# Add check for Pandas version before showing deprecation warning.\u001b[0m\u001b[0;34m\u001b[0m\u001b[0;34m\u001b[0m\u001b[0m\n",
      "\u001b[0;31mImportError\u001b[0m: pandas-gbq requires google-cloud-bigquery >= 0.29.0, current version 0.28.0"
     ]
    }
   ],
   "source": [
    "#try using pandas-gbq module\n",
    "\n",
    "query = \"SELECT SQLDATE FROM `gdelt-bq.full.events` WHERE SQLDATE = 20180404 LIMIT 10\"\n",
    "\n",
    "df = pandas.read_gbq(query,'my-project-1509128544178',credentials_path)\n",
    "df.head()"
   ]
  }
 ],
 "metadata": {
  "kernelspec": {
   "display_name": "Python 3",
   "language": "python",
   "name": "python3"
  },
  "language_info": {
   "codemirror_mode": {
    "name": "ipython",
    "version": 3
   },
   "file_extension": ".py",
   "mimetype": "text/x-python",
   "name": "python",
   "nbconvert_exporter": "python",
   "pygments_lexer": "ipython3",
   "version": "3.6.2"
  }
 },
 "nbformat": 4,
 "nbformat_minor": 2
}
